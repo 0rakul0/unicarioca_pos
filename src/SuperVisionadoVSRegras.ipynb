{
 "cells": [
  {
   "cell_type": "code",
   "execution_count": 2,
   "metadata": {
    "colab": {
     "base_uri": "https://localhost:8080/"
    },
    "id": "4_Irk3EWZQVt",
    "outputId": "7ea766b5-dff2-4c32-fd49-36d707609571",
    "ExecuteTime": {
     "start_time": "2023-09-25T10:54:57.531316Z",
     "end_time": "2023-09-25T10:54:57.689869Z"
    }
   },
   "outputs": [
    {
     "name": "stderr",
     "output_type": "stream",
     "text": [
      "[nltk_data] Downloading package vader_lexicon to\n",
      "[nltk_data]     C:\\Users\\jefferson\\AppData\\Roaming\\nltk_data...\n",
      "[nltk_data]   Package vader_lexicon is already up-to-date!\n"
     ]
    },
    {
     "data": {
      "text/plain": "True"
     },
     "execution_count": 2,
     "metadata": {},
     "output_type": "execute_result"
    }
   ],
   "source": [
    "import pandas as pd\n",
    "import numpy as np\n",
    "\n",
    "from sklearn.model_selection import train_test_split\n",
    "from sklearn.preprocessing import LabelEncoder\n",
    "from sklearn.metrics import confusion_matrix, accuracy_score\n",
    "\n",
    "from keras.models import Sequential\n",
    "from keras.layers import Dense, Embedding, LSTM, SpatialDropout1D\n",
    "from keras.preprocessing.text import Tokenizer\n",
    "from keras.utils import pad_sequences\n",
    "from keras.utils import np_utils\n",
    "\n",
    "import nltk\n",
    "from nltk.sentiment.vader import SentimentIntensityAnalyzer\n",
    "nltk.download(\"vader_lexicon\")\n"
   ]
  },
  {
   "cell_type": "code",
   "execution_count": 3,
   "metadata": {
    "colab": {
     "base_uri": "https://localhost:8080/"
    },
    "id": "0rlkQat9Z1J4",
    "outputId": "614c91bb-52d3-4e49-99c7-ed0c0a9fd971",
    "ExecuteTime": {
     "start_time": "2023-09-25T10:54:57.549315Z",
     "end_time": "2023-09-25T10:54:57.803753Z"
    }
   },
   "outputs": [
    {
     "data": {
      "text/plain": "(74682, 4)"
     },
     "execution_count": 3,
     "metadata": {},
     "output_type": "execute_result"
    }
   ],
   "source": [
    "Tweets = pd.read_csv(\"./twitters/Tweets2.csv\")\n",
    "Tweets.shape"
   ]
  },
  {
   "cell_type": "code",
   "execution_count": 4,
   "metadata": {
    "colab": {
     "base_uri": "https://localhost:8080/",
     "height": 206
    },
    "id": "gEvqURL2aWYH",
    "outputId": "776f4431-66bd-4a94-8d90-707e6498f92b",
    "ExecuteTime": {
     "start_time": "2023-09-25T10:54:57.801753Z",
     "end_time": "2023-09-25T10:54:57.841753Z"
    }
   },
   "outputs": [
    {
     "data": {
      "text/plain": "     id        local sentiment  \\\n0  2401  Borderlands  Positive   \n1  2401  Borderlands  Positive   \n2  2401  Borderlands  Positive   \n3  2401  Borderlands  Positive   \n4  2401  Borderlands  Positive   \n\n                                                text  \n0  im getting on borderlands and i will murder yo...  \n1  I am coming to the borders and I will kill you...  \n2  im getting on borderlands and i will kill you ...  \n3  im coming on borderlands and i will murder you...  \n4  im getting on borderlands 2 and i will murder ...  ",
      "text/html": "<div>\n<style scoped>\n    .dataframe tbody tr th:only-of-type {\n        vertical-align: middle;\n    }\n\n    .dataframe tbody tr th {\n        vertical-align: top;\n    }\n\n    .dataframe thead th {\n        text-align: right;\n    }\n</style>\n<table border=\"1\" class=\"dataframe\">\n  <thead>\n    <tr style=\"text-align: right;\">\n      <th></th>\n      <th>id</th>\n      <th>local</th>\n      <th>sentiment</th>\n      <th>text</th>\n    </tr>\n  </thead>\n  <tbody>\n    <tr>\n      <th>0</th>\n      <td>2401</td>\n      <td>Borderlands</td>\n      <td>Positive</td>\n      <td>im getting on borderlands and i will murder yo...</td>\n    </tr>\n    <tr>\n      <th>1</th>\n      <td>2401</td>\n      <td>Borderlands</td>\n      <td>Positive</td>\n      <td>I am coming to the borders and I will kill you...</td>\n    </tr>\n    <tr>\n      <th>2</th>\n      <td>2401</td>\n      <td>Borderlands</td>\n      <td>Positive</td>\n      <td>im getting on borderlands and i will kill you ...</td>\n    </tr>\n    <tr>\n      <th>3</th>\n      <td>2401</td>\n      <td>Borderlands</td>\n      <td>Positive</td>\n      <td>im coming on borderlands and i will murder you...</td>\n    </tr>\n    <tr>\n      <th>4</th>\n      <td>2401</td>\n      <td>Borderlands</td>\n      <td>Positive</td>\n      <td>im getting on borderlands 2 and i will murder ...</td>\n    </tr>\n  </tbody>\n</table>\n</div>"
     },
     "execution_count": 4,
     "metadata": {},
     "output_type": "execute_result"
    }
   ],
   "source": [
    "Tweets.head()"
   ]
  },
  {
   "cell_type": "code",
   "execution_count": 5,
   "metadata": {
    "colab": {
     "base_uri": "https://localhost:8080/"
    },
    "id": "yDiGsAPJaaaN",
    "outputId": "43dc6dc0-f01b-4dcc-fd23-f384911e96b2",
    "ExecuteTime": {
     "start_time": "2023-09-25T10:54:57.819759Z",
     "end_time": "2023-09-25T10:54:57.841753Z"
    }
   },
   "outputs": [
    {
     "data": {
      "text/plain": "sentiment\nIrrelevant    12990\nNegative      22542\nNeutral       18318\nPositive      20832\ndtype: int64"
     },
     "execution_count": 5,
     "metadata": {},
     "output_type": "execute_result"
    }
   ],
   "source": [
    "Tweets.groupby(['sentiment']).size()"
   ]
  },
  {
   "cell_type": "code",
   "execution_count": 6,
   "metadata": {
    "id": "a720JxRwajE9",
    "ExecuteTime": {
     "start_time": "2023-09-25T10:54:57.835759Z",
     "end_time": "2023-09-25T10:54:57.889762Z"
    }
   },
   "outputs": [],
   "source": [
    "Tweets.loc[Tweets['sentiment']=='Irrelevant','sentiment'] = 'Neutral'"
   ]
  },
  {
   "cell_type": "code",
   "execution_count": 7,
   "metadata": {
    "id": "-bBBaEotbApW",
    "ExecuteTime": {
     "start_time": "2023-09-25T10:54:57.845756Z",
     "end_time": "2023-09-25T10:54:58.033817Z"
    }
   },
   "outputs": [],
   "source": [
    "Tweets = Tweets.dropna(subset=['text'])\n",
    "Tweets.reset_index(drop=True, inplace=True)"
   ]
  },
  {
   "cell_type": "code",
   "execution_count": 8,
   "metadata": {
    "colab": {
     "base_uri": "https://localhost:8080/"
    },
    "id": "OxMwOirXbuNe",
    "outputId": "ecdbc313-63cb-4d25-83d3-905284603f7b",
    "ExecuteTime": {
     "start_time": "2023-09-25T10:54:57.878763Z",
     "end_time": "2023-09-25T10:54:58.033817Z"
    }
   },
   "outputs": [
    {
     "data": {
      "text/plain": "(73996, 4)"
     },
     "execution_count": 8,
     "metadata": {},
     "output_type": "execute_result"
    }
   ],
   "source": [
    "Tweets.shape"
   ]
  },
  {
   "cell_type": "markdown",
   "metadata": {
    "id": "jATkApzXcGnS"
   },
   "source": [
    "# **Supervisionado**"
   ]
  },
  {
   "cell_type": "code",
   "execution_count": 9,
   "metadata": {
    "id": "5gzpv3ppbxrV",
    "ExecuteTime": {
     "start_time": "2023-09-25T10:54:57.894291Z",
     "end_time": "2023-09-25T10:54:59.588361Z"
    }
   },
   "outputs": [],
   "source": [
    "token = Tokenizer(num_words=100)\n",
    "token.fit_on_texts(Tweets['text'].values)"
   ]
  },
  {
   "cell_type": "code",
   "execution_count": 10,
   "metadata": {
    "id": "Gf6fAU5OcQnk",
    "ExecuteTime": {
     "start_time": "2023-09-25T10:54:59.589360Z",
     "end_time": "2023-09-25T10:55:00.870785Z"
    }
   },
   "outputs": [],
   "source": [
    "X = token.texts_to_sequences(Tweets['text'].values)\n",
    "X = pad_sequences(X, padding=\"post\", maxlen=100)"
   ]
  },
  {
   "cell_type": "code",
   "execution_count": 11,
   "metadata": {
    "colab": {
     "base_uri": "https://localhost:8080/"
    },
    "id": "2wnsoOURcWpV",
    "outputId": "56441f23-0603-4433-e00d-9b7fa9be1e0d",
    "ExecuteTime": {
     "start_time": "2023-09-25T10:55:00.885793Z",
     "end_time": "2023-09-25T10:55:00.931708Z"
    }
   },
   "outputs": [
    {
     "name": "stdout",
     "output_type": "stream",
     "text": [
      "[2 2 2 ... 2 2 2]\n"
     ]
    }
   ],
   "source": [
    "labelencoder = LabelEncoder()\n",
    "y = labelencoder.fit_transform(Tweets['sentiment'])\n",
    "print(y)"
   ]
  },
  {
   "cell_type": "code",
   "execution_count": 12,
   "metadata": {
    "colab": {
     "base_uri": "https://localhost:8080/"
    },
    "id": "OmdPJmf5cl-k",
    "outputId": "3156fa34-b07d-400f-e42f-e398a379db51",
    "ExecuteTime": {
     "start_time": "2023-09-25T10:55:00.905702Z",
     "end_time": "2023-09-25T10:55:00.951705Z"
    }
   },
   "outputs": [
    {
     "name": "stdout",
     "output_type": "stream",
     "text": [
      "[[0. 0. 1.]\n",
      " [0. 0. 1.]\n",
      " [0. 0. 1.]\n",
      " ...\n",
      " [0. 0. 1.]\n",
      " [0. 0. 1.]\n",
      " [0. 0. 1.]]\n"
     ]
    }
   ],
   "source": [
    "y = np_utils.to_categorical(y)\n",
    "print(y)"
   ]
  },
  {
   "cell_type": "code",
   "execution_count": 13,
   "metadata": {
    "colab": {
     "base_uri": "https://localhost:8080/"
    },
    "id": "o5zWi3rvcqt2",
    "outputId": "1da0dd17-2ae9-4696-bb13-5f0a3796be5c",
    "ExecuteTime": {
     "start_time": "2023-09-25T10:55:00.920709Z",
     "end_time": "2023-09-25T10:55:00.952702Z"
    }
   },
   "outputs": [
    {
     "data": {
      "text/plain": "array([[ 9,  3, 50, ...,  0,  0,  0],\n       [ 2, 23,  1, ...,  0,  0,  0],\n       [39, 31,  0, ...,  0,  0,  0],\n       ...,\n       [ 2,  1,  0, ...,  0,  0,  0],\n       [40,  5,  0, ...,  0,  0,  0],\n       [14,  6,  0, ...,  0,  0,  0]])"
     },
     "execution_count": 13,
     "metadata": {},
     "output_type": "execute_result"
    }
   ],
   "source": [
    "X_train, X_test, y_train, y_test = train_test_split(X,y, test_size = 0.4)\n",
    "X_test"
   ]
  },
  {
   "cell_type": "code",
   "execution_count": 14,
   "metadata": {
    "id": "pG4WNgmOc2MN",
    "ExecuteTime": {
     "start_time": "2023-09-25T10:55:00.952702Z",
     "end_time": "2023-09-25T10:55:25.517508Z"
    }
   },
   "outputs": [],
   "source": [
    "modelo = Sequential()\n",
    "modelo.add(Embedding(input_dim= len(token.word_index), output_dim=128, input_length=X.shape[1]))\n",
    "modelo.add(SpatialDropout1D(0.2))\n",
    "modelo.add(LSTM(units=196, dropout=0.2, recurrent_dropout=0, activation='tanh',\n",
    "                recurrent_activation='sigmoid', unroll=False, use_bias=True))\n",
    "modelo.add(Dense(units=3,activation=\"softmax\"))"
   ]
  },
  {
   "cell_type": "code",
   "execution_count": 15,
   "metadata": {
    "colab": {
     "base_uri": "https://localhost:8080/"
    },
    "id": "cR8BNGNdc8Q-",
    "outputId": "a436f1c5-0d41-4dc5-cd9a-d0f99d1362f0",
    "ExecuteTime": {
     "start_time": "2023-09-25T10:55:25.524507Z",
     "end_time": "2023-09-25T10:55:25.578029Z"
    }
   },
   "outputs": [
    {
     "name": "stdout",
     "output_type": "stream",
     "text": [
      "Model: \"sequential\"\n",
      "_________________________________________________________________\n",
      " Layer (type)                Output Shape              Param #   \n",
      "=================================================================\n",
      " embedding (Embedding)       (None, 100, 128)          4324224   \n",
      "                                                                 \n",
      " spatial_dropout1d (SpatialD  (None, 100, 128)         0         \n",
      " ropout1D)                                                       \n",
      "                                                                 \n",
      " lstm (LSTM)                 (None, 196)               254800    \n",
      "                                                                 \n",
      " dense (Dense)               (None, 3)                 591       \n",
      "                                                                 \n",
      "=================================================================\n",
      "Total params: 4,579,615\n",
      "Trainable params: 4,579,615\n",
      "Non-trainable params: 0\n",
      "_________________________________________________________________\n",
      "None\n"
     ]
    }
   ],
   "source": [
    "modelo.compile(loss='categorical_crossentropy', optimizer='adam', metrics = ['accuracy'])\n",
    "print(modelo.summary())"
   ]
  },
  {
   "cell_type": "code",
   "execution_count": 16,
   "metadata": {
    "colab": {
     "base_uri": "https://localhost:8080/"
    },
    "id": "7bJRaTrydDvd",
    "outputId": "a57d2058-94d1-4d8f-c65f-f9ac2d72cfdd",
    "ExecuteTime": {
     "start_time": "2023-09-25T10:55:25.556025Z",
     "end_time": "2023-09-25T11:01:53.155301Z"
    }
   },
   "outputs": [
    {
     "name": "stdout",
     "output_type": "stream",
     "text": [
      "Epoch 1/100\n",
      "89/89 [==============================] - 14s 44ms/step - loss: 1.0820 - accuracy: 0.4204\n",
      "Epoch 2/100\n",
      "89/89 [==============================] - 4s 43ms/step - loss: 1.0814 - accuracy: 0.4224\n",
      "Epoch 3/100\n",
      "89/89 [==============================] - 4s 43ms/step - loss: 1.0813 - accuracy: 0.4224\n",
      "Epoch 4/100\n",
      "89/89 [==============================] - 4s 42ms/step - loss: 1.0815 - accuracy: 0.4224\n",
      "Epoch 5/100\n",
      "89/89 [==============================] - 4s 41ms/step - loss: 1.0812 - accuracy: 0.4224\n",
      "Epoch 6/100\n",
      "89/89 [==============================] - 4s 43ms/step - loss: 1.0813 - accuracy: 0.4224\n",
      "Epoch 7/100\n",
      "89/89 [==============================] - 4s 43ms/step - loss: 1.0813 - accuracy: 0.4224\n",
      "Epoch 8/100\n",
      "89/89 [==============================] - 4s 44ms/step - loss: 1.0812 - accuracy: 0.4224\n",
      "Epoch 9/100\n",
      "89/89 [==============================] - 4s 50ms/step - loss: 1.0812 - accuracy: 0.4224\n",
      "Epoch 10/100\n",
      "89/89 [==============================] - 4s 43ms/step - loss: 1.0814 - accuracy: 0.4224\n",
      "Epoch 11/100\n",
      "89/89 [==============================] - 4s 42ms/step - loss: 1.0812 - accuracy: 0.4224\n",
      "Epoch 12/100\n",
      "89/89 [==============================] - 4s 43ms/step - loss: 1.0812 - accuracy: 0.4224\n",
      "Epoch 13/100\n",
      "89/89 [==============================] - 4s 43ms/step - loss: 1.0811 - accuracy: 0.4224\n",
      "Epoch 14/100\n",
      "89/89 [==============================] - 4s 42ms/step - loss: 1.0811 - accuracy: 0.4224\n",
      "Epoch 15/100\n",
      "89/89 [==============================] - 4s 41ms/step - loss: 1.0812 - accuracy: 0.4224\n",
      "Epoch 16/100\n",
      "89/89 [==============================] - 4s 42ms/step - loss: 1.0811 - accuracy: 0.4224\n",
      "Epoch 17/100\n",
      "89/89 [==============================] - 4s 43ms/step - loss: 1.0812 - accuracy: 0.4224\n",
      "Epoch 18/100\n",
      "89/89 [==============================] - 4s 42ms/step - loss: 1.0812 - accuracy: 0.4224\n",
      "Epoch 19/100\n",
      "89/89 [==============================] - 4s 42ms/step - loss: 1.0812 - accuracy: 0.4224\n",
      "Epoch 20/100\n",
      "89/89 [==============================] - 4s 41ms/step - loss: 1.0812 - accuracy: 0.4224\n",
      "Epoch 21/100\n",
      "89/89 [==============================] - 4s 42ms/step - loss: 1.0812 - accuracy: 0.4224\n",
      "Epoch 22/100\n",
      "89/89 [==============================] - 4s 42ms/step - loss: 1.0811 - accuracy: 0.4224\n",
      "Epoch 23/100\n",
      "89/89 [==============================] - 4s 42ms/step - loss: 1.0811 - accuracy: 0.4224\n",
      "Epoch 24/100\n",
      "89/89 [==============================] - 4s 44ms/step - loss: 1.0811 - accuracy: 0.4224\n",
      "Epoch 25/100\n",
      "89/89 [==============================] - 4s 43ms/step - loss: 1.0810 - accuracy: 0.4224\n",
      "Epoch 26/100\n",
      "89/89 [==============================] - 4s 42ms/step - loss: 1.0812 - accuracy: 0.4224\n",
      "Epoch 27/100\n",
      "89/89 [==============================] - 4s 42ms/step - loss: 1.0811 - accuracy: 0.4224\n",
      "Epoch 28/100\n",
      "89/89 [==============================] - 4s 43ms/step - loss: 1.0811 - accuracy: 0.4224\n",
      "Epoch 29/100\n",
      "89/89 [==============================] - 4s 43ms/step - loss: 1.0811 - accuracy: 0.4224\n",
      "Epoch 30/100\n",
      "89/89 [==============================] - 4s 43ms/step - loss: 1.0812 - accuracy: 0.4224\n",
      "Epoch 31/100\n",
      "89/89 [==============================] - 4s 42ms/step - loss: 1.0811 - accuracy: 0.4224\n",
      "Epoch 32/100\n",
      "89/89 [==============================] - 4s 42ms/step - loss: 1.0811 - accuracy: 0.4224\n",
      "Epoch 33/100\n",
      "89/89 [==============================] - 4s 42ms/step - loss: 1.0811 - accuracy: 0.4224\n",
      "Epoch 34/100\n",
      "89/89 [==============================] - 4s 43ms/step - loss: 1.0810 - accuracy: 0.4224\n",
      "Epoch 35/100\n",
      "89/89 [==============================] - 4s 42ms/step - loss: 1.0811 - accuracy: 0.4224\n",
      "Epoch 36/100\n",
      "89/89 [==============================] - 4s 42ms/step - loss: 1.0811 - accuracy: 0.4224\n",
      "Epoch 37/100\n",
      "89/89 [==============================] - 4s 42ms/step - loss: 1.0811 - accuracy: 0.4224\n",
      "Epoch 38/100\n",
      "89/89 [==============================] - 4s 42ms/step - loss: 1.0810 - accuracy: 0.4224\n",
      "Epoch 39/100\n",
      "89/89 [==============================] - 4s 42ms/step - loss: 1.0811 - accuracy: 0.4224\n",
      "Epoch 40/100\n",
      "89/89 [==============================] - 4s 42ms/step - loss: 1.0810 - accuracy: 0.4224\n",
      "Epoch 41/100\n",
      "89/89 [==============================] - 4s 42ms/step - loss: 1.0811 - accuracy: 0.4224\n",
      "Epoch 42/100\n",
      "89/89 [==============================] - 4s 42ms/step - loss: 1.0811 - accuracy: 0.4224\n",
      "Epoch 43/100\n",
      "89/89 [==============================] - 4s 41ms/step - loss: 1.0811 - accuracy: 0.4224\n",
      "Epoch 44/100\n",
      "89/89 [==============================] - 4s 42ms/step - loss: 1.0811 - accuracy: 0.4224\n",
      "Epoch 45/100\n",
      "89/89 [==============================] - 4s 42ms/step - loss: 1.0811 - accuracy: 0.4224\n",
      "Epoch 46/100\n",
      "89/89 [==============================] - 4s 42ms/step - loss: 1.0810 - accuracy: 0.4224\n",
      "Epoch 47/100\n",
      "89/89 [==============================] - 4s 42ms/step - loss: 1.0811 - accuracy: 0.4224\n",
      "Epoch 48/100\n",
      "89/89 [==============================] - 4s 42ms/step - loss: 1.0811 - accuracy: 0.4224\n",
      "Epoch 49/100\n",
      "89/89 [==============================] - 4s 42ms/step - loss: 1.0810 - accuracy: 0.4224\n",
      "Epoch 50/100\n",
      "89/89 [==============================] - 4s 42ms/step - loss: 1.0810 - accuracy: 0.4224\n",
      "Epoch 51/100\n",
      "89/89 [==============================] - 4s 43ms/step - loss: 1.0810 - accuracy: 0.4224\n",
      "Epoch 52/100\n",
      "89/89 [==============================] - 4s 44ms/step - loss: 1.0811 - accuracy: 0.4224\n",
      "Epoch 53/100\n",
      "89/89 [==============================] - 4s 43ms/step - loss: 1.0810 - accuracy: 0.4224\n",
      "Epoch 54/100\n",
      "89/89 [==============================] - 4s 42ms/step - loss: 1.0810 - accuracy: 0.4224\n",
      "Epoch 55/100\n",
      "89/89 [==============================] - 4s 42ms/step - loss: 1.0811 - accuracy: 0.4224\n",
      "Epoch 56/100\n",
      "89/89 [==============================] - 4s 42ms/step - loss: 1.0811 - accuracy: 0.4224\n",
      "Epoch 57/100\n",
      "89/89 [==============================] - 4s 42ms/step - loss: 1.0811 - accuracy: 0.4224\n",
      "Epoch 58/100\n",
      "89/89 [==============================] - 4s 42ms/step - loss: 1.0811 - accuracy: 0.4224\n",
      "Epoch 59/100\n",
      "89/89 [==============================] - 4s 42ms/step - loss: 1.0811 - accuracy: 0.4224\n",
      "Epoch 60/100\n",
      "89/89 [==============================] - 4s 44ms/step - loss: 1.0811 - accuracy: 0.4224\n",
      "Epoch 61/100\n",
      "89/89 [==============================] - 4s 43ms/step - loss: 1.0810 - accuracy: 0.4224\n",
      "Epoch 62/100\n",
      "89/89 [==============================] - 4s 41ms/step - loss: 1.0810 - accuracy: 0.4224\n",
      "Epoch 63/100\n",
      "89/89 [==============================] - 4s 42ms/step - loss: 1.0810 - accuracy: 0.4224\n",
      "Epoch 64/100\n",
      "89/89 [==============================] - 4s 42ms/step - loss: 1.0810 - accuracy: 0.4224\n",
      "Epoch 65/100\n",
      "89/89 [==============================] - 4s 41ms/step - loss: 1.0811 - accuracy: 0.4224\n",
      "Epoch 66/100\n",
      "89/89 [==============================] - 4s 41ms/step - loss: 1.0811 - accuracy: 0.4224\n",
      "Epoch 67/100\n",
      "89/89 [==============================] - 4s 42ms/step - loss: 1.0810 - accuracy: 0.4224\n",
      "Epoch 68/100\n",
      "89/89 [==============================] - 4s 43ms/step - loss: 1.0810 - accuracy: 0.4224\n",
      "Epoch 69/100\n",
      "89/89 [==============================] - 4s 44ms/step - loss: 1.0811 - accuracy: 0.4224\n",
      "Epoch 70/100\n",
      "89/89 [==============================] - 4s 43ms/step - loss: 1.0810 - accuracy: 0.4224\n",
      "Epoch 71/100\n",
      "89/89 [==============================] - 4s 43ms/step - loss: 1.0811 - accuracy: 0.4224\n",
      "Epoch 72/100\n",
      "89/89 [==============================] - 4s 43ms/step - loss: 1.0811 - accuracy: 0.4224\n",
      "Epoch 73/100\n",
      "89/89 [==============================] - 4s 42ms/step - loss: 1.0810 - accuracy: 0.4224\n",
      "Epoch 74/100\n",
      "89/89 [==============================] - 4s 42ms/step - loss: 1.0811 - accuracy: 0.4224\n",
      "Epoch 75/100\n",
      "89/89 [==============================] - 4s 43ms/step - loss: 1.0810 - accuracy: 0.4224\n",
      "Epoch 76/100\n",
      "89/89 [==============================] - 4s 42ms/step - loss: 1.0811 - accuracy: 0.4224\n",
      "Epoch 77/100\n",
      "89/89 [==============================] - 4s 41ms/step - loss: 1.0810 - accuracy: 0.4224\n",
      "Epoch 78/100\n",
      "89/89 [==============================] - 4s 42ms/step - loss: 1.0811 - accuracy: 0.4224\n",
      "Epoch 79/100\n",
      "89/89 [==============================] - 4s 42ms/step - loss: 1.0810 - accuracy: 0.4224\n",
      "Epoch 80/100\n",
      "89/89 [==============================] - 4s 42ms/step - loss: 1.0810 - accuracy: 0.4224\n",
      "Epoch 81/100\n",
      "89/89 [==============================] - 4s 42ms/step - loss: 1.0811 - accuracy: 0.4224\n",
      "Epoch 82/100\n",
      "89/89 [==============================] - 4s 42ms/step - loss: 1.0810 - accuracy: 0.4224\n",
      "Epoch 83/100\n",
      "89/89 [==============================] - 4s 43ms/step - loss: 1.0809 - accuracy: 0.4224\n",
      "Epoch 84/100\n",
      "89/89 [==============================] - 4s 42ms/step - loss: 1.0811 - accuracy: 0.4224\n",
      "Epoch 85/100\n",
      "89/89 [==============================] - 4s 43ms/step - loss: 1.0810 - accuracy: 0.4224\n",
      "Epoch 86/100\n",
      "89/89 [==============================] - 4s 42ms/step - loss: 1.0811 - accuracy: 0.4224\n",
      "Epoch 87/100\n",
      "89/89 [==============================] - 4s 43ms/step - loss: 1.0810 - accuracy: 0.4224\n",
      "Epoch 88/100\n",
      "89/89 [==============================] - 4s 42ms/step - loss: 1.0810 - accuracy: 0.4224\n",
      "Epoch 89/100\n",
      "89/89 [==============================] - 4s 43ms/step - loss: 1.0811 - accuracy: 0.4224\n",
      "Epoch 90/100\n",
      "89/89 [==============================] - 4s 42ms/step - loss: 1.0810 - accuracy: 0.4224\n",
      "Epoch 91/100\n",
      "89/89 [==============================] - 4s 42ms/step - loss: 1.0811 - accuracy: 0.4224\n",
      "Epoch 92/100\n",
      "89/89 [==============================] - 4s 42ms/step - loss: 1.0810 - accuracy: 0.4224\n",
      "Epoch 93/100\n",
      "89/89 [==============================] - 4s 42ms/step - loss: 1.0810 - accuracy: 0.4224\n",
      "Epoch 94/100\n",
      "89/89 [==============================] - 4s 42ms/step - loss: 1.0811 - accuracy: 0.4224\n",
      "Epoch 95/100\n",
      "89/89 [==============================] - 4s 42ms/step - loss: 1.0810 - accuracy: 0.4224\n",
      "Epoch 96/100\n",
      "89/89 [==============================] - 4s 42ms/step - loss: 1.0810 - accuracy: 0.4224\n",
      "Epoch 97/100\n",
      "89/89 [==============================] - 4s 42ms/step - loss: 1.0810 - accuracy: 0.4224\n",
      "Epoch 98/100\n",
      "89/89 [==============================] - 4s 42ms/step - loss: 1.0811 - accuracy: 0.4224\n",
      "Epoch 99/100\n",
      "89/89 [==============================] - 4s 41ms/step - loss: 1.0810 - accuracy: 0.4224\n",
      "Epoch 100/100\n",
      "89/89 [==============================] - 4s 42ms/step - loss: 1.0810 - accuracy: 0.4224\n"
     ]
    },
    {
     "data": {
      "text/plain": "<keras.callbacks.History at 0x1f9b0b4e850>"
     },
     "execution_count": 16,
     "metadata": {},
     "output_type": "execute_result"
    }
   ],
   "source": [
    "modelo.fit(X_train, y_train, epochs=100, batch_size=500,verbose=True)"
   ]
  },
  {
   "cell_type": "code",
   "execution_count": 17,
   "metadata": {
    "colab": {
     "base_uri": "https://localhost:8080/"
    },
    "id": "VO7VvXtxdPLH",
    "outputId": "38dafc50-c0af-4e01-b8c3-1de3af5a046d",
    "ExecuteTime": {
     "start_time": "2023-09-25T11:01:53.223910Z",
     "end_time": "2023-09-25T11:02:01.140787Z"
    }
   },
   "outputs": [
    {
     "name": "stdout",
     "output_type": "stream",
     "text": [
      "925/925 [==============================] - 8s 7ms/step - loss: 1.0844 - accuracy: 0.4132\n",
      "Accuracy:  0.41322341561317444\n"
     ]
    }
   ],
   "source": [
    "_, accuracy = modelo.evaluate(X_test,y_test)\n",
    "print(\"Accuracy: \", accuracy)"
   ]
  },
  {
   "cell_type": "markdown",
   "metadata": {
    "id": "x4k7UJuQeC1_"
   },
   "source": [
    "# **VADER**"
   ]
  },
  {
   "cell_type": "code",
   "execution_count": 18,
   "metadata": {
    "id": "j2oceTN7dlRO",
    "ExecuteTime": {
     "start_time": "2023-09-25T11:02:01.155202Z",
     "end_time": "2023-09-25T11:02:21.765884Z"
    }
   },
   "outputs": [],
   "source": [
    "#from pandas.core.internals.managers import T\n",
    "mas = SentimentIntensityAnalyzer()\n",
    "Tweets['vander_sentiment'] = ''\n",
    "\n",
    "for y in range(len(Tweets.index)):\n",
    "  x = mas.polarity_scores(Tweets['text'].iloc[y])\n",
    "  del x['compound']\n",
    "  maior = max(x,key=x.get) #neg pos neu\n",
    "  Tweets.loc[y,'vander_sentiment'] = maior"
   ]
  },
  {
   "cell_type": "code",
   "execution_count": 19,
   "metadata": {
    "colab": {
     "base_uri": "https://localhost:8080/"
    },
    "id": "zpGJ45hGfcut",
    "outputId": "d837381c-ccf4-492e-a11b-0387df9453ec",
    "ExecuteTime": {
     "start_time": "2023-09-25T11:02:21.767885Z",
     "end_time": "2023-09-25T11:02:21.801899Z"
    }
   },
   "outputs": [
    {
     "data": {
      "text/plain": "vander_sentiment\nneg     3660\nneu    65581\npos     4755\ndtype: int64"
     },
     "execution_count": 19,
     "metadata": {},
     "output_type": "execute_result"
    }
   ],
   "source": [
    "Tweets.groupby(['vander_sentiment']).size()"
   ]
  },
  {
   "cell_type": "code",
   "execution_count": 20,
   "metadata": {
    "colab": {
     "base_uri": "https://localhost:8080/"
    },
    "id": "W8sSEVtOgNfn",
    "outputId": "a0dda449-7ec2-49ba-8d89-34e21fd6184b",
    "ExecuteTime": {
     "start_time": "2023-09-25T11:02:21.801899Z",
     "end_time": "2023-09-25T11:02:21.815907Z"
    }
   },
   "outputs": [
    {
     "data": {
      "text/plain": "sentiment\nNegative    22358\nNeutral     30983\nPositive    20655\ndtype: int64"
     },
     "execution_count": 20,
     "metadata": {},
     "output_type": "execute_result"
    }
   ],
   "source": [
    "Tweets.groupby(['sentiment']).size()"
   ]
  },
  {
   "cell_type": "code",
   "execution_count": 21,
   "metadata": {
    "id": "1hIakXC_gWzF",
    "ExecuteTime": {
     "start_time": "2023-09-25T11:02:21.821897Z",
     "end_time": "2023-09-25T11:02:21.852145Z"
    }
   },
   "outputs": [],
   "source": [
    "Tweets.loc[Tweets['vander_sentiment']== 'neu' , 'vander_sentiment'] = 'Neutral'\n",
    "Tweets.loc[Tweets['vander_sentiment']== 'neg' , 'vander_sentiment'] = 'Negative'\n",
    "Tweets.loc[Tweets['vander_sentiment']== 'pos' , 'vander_sentiment'] = 'Positive'"
   ]
  },
  {
   "cell_type": "code",
   "execution_count": 22,
   "metadata": {
    "colab": {
     "base_uri": "https://localhost:8080/"
    },
    "id": "tNosrssCg5nc",
    "outputId": "a32c536e-6b66-4f2b-95f9-3718af21b3c5",
    "ExecuteTime": {
     "start_time": "2023-09-25T11:02:21.848143Z",
     "end_time": "2023-09-25T11:02:21.861143Z"
    }
   },
   "outputs": [
    {
     "data": {
      "text/plain": "vander_sentiment\nNegative     3660\nNeutral     65581\nPositive     4755\ndtype: int64"
     },
     "execution_count": 22,
     "metadata": {},
     "output_type": "execute_result"
    }
   ],
   "source": [
    "Tweets.groupby(['vander_sentiment']).size()"
   ]
  },
  {
   "cell_type": "code",
   "execution_count": 23,
   "metadata": {
    "colab": {
     "base_uri": "https://localhost:8080/"
    },
    "id": "TsQV2_VCg78X",
    "outputId": "5d3091a2-0272-443e-8182-bbd444f24f3f",
    "ExecuteTime": {
     "start_time": "2023-09-25T11:02:21.867968Z",
     "end_time": "2023-09-25T11:02:22.045995Z"
    }
   },
   "outputs": [
    {
     "name": "stdout",
     "output_type": "stream",
     "text": [
      "[[ 2004 19902   452]\n",
      " [ 1122 28384  1477]\n",
      " [  534 17295  2826]]\n"
     ]
    }
   ],
   "source": [
    "y_pred = Tweets['vander_sentiment']\n",
    "y_test = Tweets['sentiment']\n",
    "cm = confusion_matrix(y_test, y_pred)\n",
    "print(cm)"
   ]
  },
  {
   "cell_type": "code",
   "execution_count": 24,
   "metadata": {
    "colab": {
     "base_uri": "https://localhost:8080/"
    },
    "id": "CGr-RRwzhSG_",
    "outputId": "5c50f4ce-a607-4dac-9389-e90d69b5fc11",
    "ExecuteTime": {
     "start_time": "2023-09-25T11:02:22.050994Z",
     "end_time": "2023-09-25T11:02:22.110992Z"
    }
   },
   "outputs": [
    {
     "name": "stdout",
     "output_type": "stream",
     "text": [
      "0.44886210065408944\n"
     ]
    }
   ],
   "source": [
    "accuracy = accuracy_score(y_test, y_pred)\n",
    "print(accuracy)"
   ]
  },
  {
   "cell_type": "code",
   "execution_count": 24,
   "metadata": {
    "id": "CHelqpIyhfi3",
    "ExecuteTime": {
     "start_time": "2023-09-25T11:02:22.111991Z",
     "end_time": "2023-09-25T11:02:22.156036Z"
    }
   },
   "outputs": [],
   "source": []
  }
 ],
 "metadata": {
  "accelerator": "GPU",
  "colab": {
   "name": "SuperVisionadoVSRegras.ipynb",
   "provenance": []
  },
  "kernelspec": {
   "name": "python3",
   "language": "python",
   "display_name": "Python 3 (ipykernel)"
  },
  "language_info": {
   "name": "python"
  }
 },
 "nbformat": 4,
 "nbformat_minor": 0
}
